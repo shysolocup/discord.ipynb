{
    "cells": [
        {
            "cell_type": "markdown",
            "metadata": {},
            "source": [
                "# Discord Jupyter Notebook\n",
                "a kind of cli discord but with some ui elements created using jupyter notebook<br>\n",
                "and it's open source and accessible if you want to edit the source to do anything you want\n"
            ]
        },
        {
            "cell_type": "markdown",
            "metadata": {},
            "source": [
                "a",
                "b",
                "<div align=center><img src=\"https://blog.pinwheel.com/hubfs/636e0a6a49cf127bf92de1e2_icon_clyde_blurple_RGB.png\" height=50></div>",
                "c"
            ]
        }
    ],
    "metadata": {
        "kernelspec": {
            "display_name": "Python 3",
            "language": "python",
            "name": "python3"
        },
        "language_info": {
            "codemirror_mode": {
                "name": "ipython",
                "version": 3
            },
            "file_extension": ".py",
            "mimetype": "text/x-python",
            "name": "python",
            "nbconvert_exporter": "python",
            "pygments_lexer": "ipython3",
            "version": "3.12.1"
        }
    },
    "nbformat": 4,
    "nbformat_minor": 2
}