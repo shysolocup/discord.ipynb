{
 "cells": [
  {
   "cell_type": "markdown",
   "metadata": {},
   "source": [
    "# Discord Jupyter Notebook\n",
    "a kind of cli discord but with some ui elements created using jupyter notebook<br>\n",
    "and it's open source and accessible if you want to edit the source to do anything you want"
   ]
  }
 ],
 "metadata": {
  "language_info": {
   "name": "python"
  }
 },
 "nbformat": 4,
 "nbformat_minor": 2
}
