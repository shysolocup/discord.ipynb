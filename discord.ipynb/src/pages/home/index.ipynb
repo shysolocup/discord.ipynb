{
 "cells": [
  {
   "cell_type": "markdown",
   "metadata": {},
   "source": [
    "<table>\n",
    "\n",
    "<tr><td>\n",
    "\n",
    "<details>\n",
    "<summary>SERVERS</summary>\n",
    "<br>\n",
    "a little empty here\n",
    "</details>\n",
    "\n",
    "\n",
    "</td><td>\n",
    "\n",
    "<details>\n",
    "<summary>DIRECT MESSAGES</summary>\n",
    "<br>\n",
    "a little empty here\n",
    "</details>\n",
    "\n",
    "</td></tr>\n",
    "\n",
    "</table>"
   ]
  }
 ],
 "metadata": {
  "language_info": {
   "name": "python"
  }
 },
 "nbformat": 4,
 "nbformat_minor": 2
}
