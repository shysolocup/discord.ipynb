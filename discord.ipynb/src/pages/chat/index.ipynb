{
 "cells": [
  {
   "cell_type": "markdown",
   "metadata": {},
   "source": [
    "<div text-align=\"center\">\n",
    "\n",
    "---\n",
    "\n",
    "## <u>**#ChannelName**</u>\n",
    "*ChannelDescription*\n",
    "\n",
    "---\n",
    "<br>\n",
    "\n",
    "<br>\n",
    "\n",
    "<table>\n",
    "<tr><td><img src=\"https://github.com/shysolocup/discord.ipynb-assets/blob/main/discord.ipynb.png?raw=true\" height=30 width=30></td><th>discord.ipynb</th><td>\n",
    "\n",
    "Welcome to the chat room!\n",
    "\n",
    "</td><td><details>\n",
    "<summary>🛈</summary><sup><i>msg #2</i><br><i>edited: false<i></sup></details></td></tr><td><details><summary>📁</summary><br></details></td></table>\n",
    "\n",
    "</div>"
   ]
  }
 ],
 "metadata": {
  "language_info": {
   "name": "python"
  }
 },
 "nbformat": 4,
 "nbformat_minor": 2
}
