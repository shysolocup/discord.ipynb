{
    "cells": [
        {
            "cell_type": "markdown",
            "metadata": {},
            "source": [
                "<table>\n",
                "\n",
                "<tr><td>\n",
                "\n",
                "# Discord Jupyter Notebook\n",
                "a kind of cli discord but with some ui elements created using jupyter notebook<br>\n",
                "and it's open source and accessible if you want to edit the source to do anything you want\n",
                "\n",
                "</td><td>\n",
                "\n",
                "<div align=right><img src=\"\" height=200></div>\n",
                "\n",
                "</td></tr>\n",
                "\n",
                "<tr><td>\n",
                "\n",
                "### Accounts\n",
                "\n",
                "</td></tr>\n",
                "\n",
                "<tr><td>\n",
                "\n",
                "### Login\n",
                "\n",
                "</td></tr>\n",
                "\n",
                "\n",
                "</table>"
            ]
        },
        {
            "cell_type": "code",
            "execution_count": null,
            "metadata": {
                "vscode": {
                    "languageId": "plaintext"
                }
            },
            "outputs": [],
            "source": []
        },
        {
            "cell_type": "code",
            "execution_count": null,
            "metadata": {
                "vscode": {
                    "languageId": "plaintext"
                }
            },
            "outputs": [],
            "source": []
        }
    ],
    "metadata": {
        "kernelspec": {
            "display_name": "Python 3",
            "language": "python",
            "name": "python3"
        },
        "language_info": {
            "codemirror_mode": {
                "name": "ipython",
                "version": 3
            },
            "file_extension": ".py",
            "mimetype": "text/x-python",
            "name": "python",
            "nbconvert_exporter": "python",
            "pygments_lexer": "ipython3",
            "version": "3.12.1"
        }
    },
    "nbformat": 4,
    "nbformat_minor": 2
}
