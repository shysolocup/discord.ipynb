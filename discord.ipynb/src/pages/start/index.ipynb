{
    "cells": [
        {
            "cell_type": "markdown",
            "metadata": {},
            "source": [
                "\n",
                "---\n",
                "\n",
                "<br>\n",
                "\n",
                "<table>\n",
                "\n",
                "<tr><td>\n",
                "\n",
                "# **DISCORD.IPYNB**\n",
                "Discord.ipynb is a version of the Discord client made in [Jupyter Notebook](https://jupyter.org/) <br>\n",
                "it's meant meant to run in codespaces/vscode as a sort of <br>\n",
                "CLI (Commandline Interface) Discord with some ui elements<br>\n",
                "- open source\n",
                "- modding support\n",
                "\n",
                "Account data is stored locally in the `app/accounts.json` file and sensitive <br>\n",
                "info is loosely encrypted and put there<br>\n",
                "the items in the accounts.json file are also where settings are stored if you want to change things manually<br>\n",
                "if you don't have any accounts in the file and you log in on this page it'll create a file for it\n",
                "\n",
                "</td><td>\n",
                "\n",
                "<img src=\"https://github.com/shysolocup/discord.ipynb-assets/blob/main/discord.ipynb.png?raw=true\" height=100>\n",
                "\n",
                "</td></tr>\n",
                "\n",
                "</table>"
            ]
        },
        {
            "cell_type": "markdown",
            "metadata": {},
            "source": [
                "<table>\n",
                "\n",
                "<tr><td>\n",
                "\n",
                "### Accounts\n",
                "\n",
                "a little empty around here\n",
                "\n",
                "</td></tr>\n",
                "\n",
                "</table>\n",
                "\n",
                "<br>\n",
                "\n",
                "---"
            ]
        },
        {
            "cell_type": "markdown",
            "metadata": {},
            "source": [
                "### Login"
            ]
        },
        {
            "cell_type": "code",
            "execution_count": null,
            "metadata": {
                "vscode": {
                    "languageId": "plaintext"
                }
            },
            "outputs": [],
            "source": [
                "username or email"
            ]
        },
        {
            "cell_type": "code",
            "execution_count": null,
            "metadata": {
                "vscode": {
                    "languageId": "plaintext"
                }
            },
            "outputs": [],
            "source": [
                "password"
            ]
        },
        {
            "cell_type": "markdown",
            "metadata": {},
            "source": [
                "\n",
                "---\n",
                "\n",
                "\n",
                "<br><br>\n",
                "\n",
                "<table><tr><td>\n",
                "\n",
                "#### Obligatory Disclaimer\n",
                "this project is created out of love for discord development and creativity stuff<br>\n",
                "this project and the developers behind it are:\n",
                "- not associated with Discord or Discord.JS or Jupyter Notebook\n",
                "- not responsible for anything created using it\n",
                "\n",
                "</td></tr></table>"
            ]
        }
    ],
    "metadata": {
        "kernelspec": {
            "display_name": "Python 3",
            "language": "python",
            "name": "python3"
        },
        "language_info": {
            "codemirror_mode": {
                "name": "ipython",
                "version": 3
            },
            "file_extension": ".py",
            "mimetype": "text/x-python",
            "name": "python",
            "nbconvert_exporter": "python",
            "pygments_lexer": "ipython3",
            "version": "3.12.1"
        }
    },
    "nbformat": 4,
    "nbformat_minor": 2
}
